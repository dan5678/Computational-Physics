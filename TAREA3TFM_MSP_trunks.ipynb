{
 "cells": [
  {
   "cell_type": "markdown",
   "id": "1190793c",
   "metadata": {},
   "source": [
    "# TFM - Daniel Cárdenas Hernández"
   ]
  },
  {
   "cell_type": "markdown",
   "id": "f24ab0c1",
   "metadata": {},
   "source": [
    "# TAREA 3: Posibles cuaternas en N puntos de curva teórica I-V"
   ]
  },
  {
   "cell_type": "markdown",
   "id": "94cddde1",
   "metadata": {},
   "source": [
    "## 3.1. Obtención curva teórica de forma directa "
   ]
  },
  {
   "cell_type": "markdown",
   "id": "0ea272d0",
   "metadata": {},
   "source": [
    "#### Primera corrección: Usar función Lambert adecuada"
   ]
  },
  {
   "cell_type": "code",
   "execution_count": 3,
   "id": "a7d74017",
   "metadata": {},
   "outputs": [
    {
     "data": {
      "image/png": "[encoded data removed]",
      "text/plain": [
       "<Figure size 640x480 with 1 Axes>"
      ]
     },
     "metadata": {},
     "output_type": "display_data"
    },
    {
     "name": "stdout",
     "output_type": "stream",
     "text": [
      "[  0.          18.36378288  36.72756576  55.09134863  73.45513151\n",
      "  91.81891439 110.18269727 128.54648014 146.91026302 165.2740459\n",
      " 183.63782878 202.00161165 220.36539453 238.72917741 257.09296029\n",
      " 275.45674317 293.82052604 312.18430892 330.5480918  348.91187468]\n",
      "348.9118746765349\n"
     ]
    }
   ],
   "source": [
    "# Importar librerías necesarias \n",
    "import numpy as np\n",
    "import matplotlib.pyplot as plt\n",
    "import math\n",
    "import pvtools.singlediode.intensity  as intensity\n",
    "from scipy.special import lambertw\n",
    "from matplotlib.ticker import FormatStrFormatter\n",
    "\n",
    "#np.set_printoptions(precision=100)\n",
    "\n",
    "# Parámetros de entrada\n",
    "Iph = 15.88\n",
    "Isat = 7.440e-10\n",
    "Rs = 2.04\n",
    "Rsh = 425.2\n",
    "at = 14.67\n",
    "Voc = at*(math.log(Iph)-math.log(Isat))\n",
    "DistV='Lineal' #['Lineal','MSP']\n",
    "\n",
    "Vx=lambda x: (at*(Rs+Rsh)/Rsh)* (np.log(x)-Rs/at*((Rsh*(Iph+Isat))/(Rs+Rsh)-x) -np.log((Isat*Rsh)/(Rsh+Rs)));\n",
    "Ix=lambda x: (Rsh*(Iph+Isat)-Vx(x))/(Rs+Rsh)-x;\n",
    "    \n",
    "    \n",
    "if DistV=='MSP':\n",
    "    Niter=6\n",
    "    Isc = intensity.from_diode(Iph, Isat, at, Rsh, Rs, 0)\n",
    "    xsc=(Isat*Rsh)/(Rsh+Rs)*math.exp((Isc*Rs)/at);\n",
    "    xoc=(Isat*Rsh)/(Rsh+Rs)*np.exp(Voc/at);\n",
    "    xMSP=(at/(Rsh+Rs))*(Isc*(Rsh+Rs)-Voc)/(Voc-Rs*Isc);\n",
    "    \n",
    "    \n",
    "    n_puntos=2**Niter+1;\n",
    "    print(n_puntos,'puntos')\n",
    "    s=np.zeros((n_puntos,1))\n",
    "    s[0]=xsc;s[n_puntos-1]=xoc;\n",
    "    V_MSP=Vx(xMSP);I_MSP=Ix(xMSP);\n",
    "    ids=[1,n_puntos];idnew=ids;\n",
    "    for i in range(1,Niter+1):\n",
    "                for k in range(1,2**(i-1)+1):\n",
    "                     id=(2*k-1)*2**(Niter-i)\n",
    "                     id1=(k-1)*2**(Niter-i+1)\n",
    "                     id2=k*2**(Niter-i+1)\n",
    "                     Idij=(Ix(s[id2])-Ix(s[id1]))/(Vx(s[id2])-Vx(s[id1]))\n",
    "                     s[id]=-(at)/(Rs+Rsh)*(Idij*(Rs+Rsh)+1)/(1+Idij*Rs);\n",
    "    \n",
    "    V=np.zeros(s.shape);I=np.zeros(s.shape)\n",
    "    V=Vx(s)\n",
    "    I=Ix(s)\n",
    "elif DistV=='Lineal':        \n",
    "    n_puntos = 20\n",
    "    V = np.linspace(0, Voc, n_puntos,dtype=np.float128)\n",
    "    I = intensity.from_diode(Iph, Isat, at, Rsh, Rs, V)\n",
    "\n",
    "# Gráfica de la curva teórica\n",
    "plt.plot(V, I, label='Curva 1', color='dodgerblue')\n",
    "plt.xlim(0,Voc+0.01)\n",
    "plt.ylim(0,max(I)+0.02)\n",
    "plt.xticks([Voc])  # Ejemplo de ticks en el eje x\n",
    "plt.yticks([max(I)])  # Ejemplo de ticks en el eje y\n",
    "\n",
    "# Ajustar la precisión de los ticks\n",
    "plt.gca().xaxis.set_major_formatter(FormatStrFormatter('%.3f'))\n",
    "plt.gca().yaxis.set_major_formatter(FormatStrFormatter('%.3f'))\n",
    "#plt.scatter(V, I, s=13)\n",
    "plt.xlabel(r'Voltaje $(V)$')\n",
    "plt.ylabel(r'Corriente $(A)$')\n",
    "plt.tick_params(left = False, bottom = False)\n",
    "plt.grid(False)\n",
    "plt.gca().spines['top'].set_visible(False)\n",
    "plt.gca().spines['right'].set_visible(False)\n",
    "plt.legend(loc='lower left')\n",
    "plt.savefig(\"Curva2.jpg\")\n",
    "plt.show()\n",
    "print(V)\n",
    "print(Voc)\n",
    "V = V[:-1]\n",
    "I = I[:-1]"
   ]
  },
  {
   "cell_type": "markdown",
   "id": "e20cc728",
   "metadata": {},
   "source": [
    "## 3.2. Distribuciones de puntos. "
   ]
  },
  {
   "cell_type": "markdown",
   "id": "7277bd26",
   "metadata": {},
   "source": [
    "#### Segunda corrección: vectorizar todo el procedimiento posterior"
   ]
  },
  {
   "cell_type": "code",
   "execution_count": 4,
   "id": "9425a16c",
   "metadata": {},
   "outputs": [],
   "source": [
    "from itertools import combinations"
   ]
  },
  {
   "cell_type": "code",
   "execution_count": 5,
   "id": "ec42d509",
   "metadata": {},
   "outputs": [],
   "source": [
    "# Generar todas las combinaciones posibles de cuatro puntos de V\n",
    "combinations_V = np.array(list(combinations(V, 4)),dtype=np.float128)\n",
    "\n",
    "# Ordenar los voltajes dentro de cada combinación de menor a mayor\n",
    "combinations_V = np.sort(combinations_V, axis=1)\n",
    "\n",
    "# Obtener los valores correspondientes de I para cada combinación de voltajes\n",
    "combinations_I = np.array([intensity.from_diode(Iph, Isat, at, Rsh, Rs, combination) for combination in combinations_V],dtype=np.float128)"
   ]
  },
  {
   "cell_type": "code",
   "execution_count": 6,
   "id": "3dd287f0-4557-44ed-80eb-f3a8f2b0d8d5",
   "metadata": {},
   "outputs": [],
   "source": [
    "# Definir los coeficientes\n",
    "A = Iph * (Rsh / (Rsh + Rs))\n",
    "B = Isat * (Rsh / (Rsh + Rs))\n",
    "C = np.exp(1 / at)\n",
    "D = np.exp(Rs / at)\n",
    "E = 1 / (Rsh + Rs)\n",
    "\n",
    "#Calculo de Alfas\n",
    "# Función derivada\n",
    "def I_derivada(I, V):\n",
    "    return -(E + B * (C ** V) * (D ** I) * np.log(C)) / (1 + B * (C ** V) * (D ** I) * np.log(D))"
   ]
  },
  {
   "cell_type": "markdown",
   "id": "044ebc56",
   "metadata": {},
   "source": [
    "### Polinomio grado 2 simplificado"
   ]
  },
  {
   "cell_type": "markdown",
   "id": "5ff4a6e4",
   "metadata": {},
   "source": [
    "$\n",
    "\\alpha = I'_1I'_2 + I'_3I'_4; \\\\\n",
    "\\beta = I'_1I'_3+I'_2I'_4;\\\\\n",
    "\\gamma = I'_1I'_4 + I'_2I'_3;\\\\\n",
    "V_{ij} = V_i-V_j;\\\\\n",
    "I_{ij} = I_i-I_j;\\\\\n",
    "a = \\alpha V_{12}V_{34}-\\beta V_{13}V_{24}+\\gamma V_{14}V_{23};\\\\\n",
    "b = \\alpha (V_{12}I_{34}+I_{12}V_{34})-\\beta(V_{13}I_{24}+I_{13}V_{24})+\\gamma(V_{14}I_{23}+I_{14}V_{23});\\\\\n",
    "c = \\alpha I_{12}I_{34}-\\beta I_{13}I_{24}+\\gamma I_{14}I_{23};\\\\\n",
    "$"
   ]
  },
  {
   "cell_type": "code",
   "execution_count": 7,
   "id": "0c66b8b1",
   "metadata": {},
   "outputs": [],
   "source": [
    "derivadas = I_derivada(combinations_I, combinations_V)\n",
    "\n",
    "# Calcular alpha, beta y gamma\n",
    "alpha = (derivadas[:, 0] * derivadas[:, 1]) + derivadas[:, 2] * derivadas[:, 3]\n",
    "beta = (derivadas[:, 0] * derivadas[:, 2]) + derivadas[:, 1] * derivadas[:, 3]\n",
    "gamma = (derivadas[:, 0] * derivadas[:, 3]) + derivadas[:, 1] * derivadas[:, 2]\n",
    "\n",
    "# Calcular las diferencias de voltaje y corriente\n",
    "V_diff = combinations_V[:, :, np.newaxis] - combinations_V[:, np.newaxis, :]\n",
    "I_diff = combinations_I[:, :, np.newaxis] - combinations_I[:, np.newaxis, :]\n",
    "V12, V13, V14, V23, V24, V34 = V_diff[:, 0, 1], V_diff[:, 0, 2], V_diff[:, 0, 3], V_diff[:, 1, 2], V_diff[:, 1, 3], V_diff[:, 2, 3]\n",
    "I12, I13, I14, I23, I24, I34 = I_diff[:, 0, 1], I_diff[:, 0, 2], I_diff[:, 0, 3], I_diff[:, 1, 2], I_diff[:, 1, 3], I_diff[:, 2, 3]\n",
    "\n",
    "# Calcular a, b, c\n",
    "a = alpha * V12 * V34 - beta * V13 * V24 + gamma * V14 * V23\n",
    "b = alpha * (V12 * I34 + I12 * V34) - beta * (V13 * I24 + I13 * V24) + gamma * (V14 * I23 + I14 * V23)\n",
    "c = alpha * I12 * I34 - beta * I13 * I24 + gamma * I14 * I23\n"
   ]
  },
  {
   "cell_type": "code",
   "execution_count": 8,
   "id": "f729c788",
   "metadata": {},
   "outputs": [
    {
     "name": "stderr",
     "output_type": "stream",
     "text": [
      "/tmp/ipykernel_18199/4002043043.py:6: RuntimeWarning: invalid value encountered in sqrt\n",
      "  r1 = -x_v - np.sqrt(discriminante)\n",
      "/tmp/ipykernel_18199/4002043043.py:7: RuntimeWarning: invalid value encountered in sqrt\n",
      "  r5 = -x_v + np.sqrt(discriminante)\n"
     ]
    }
   ],
   "source": [
    "# Definición de discriminante\n",
    "x_v = (b / (2 * a))\n",
    "discriminante = x_v**2 - (c / a)\n",
    "\n",
    "# Raíces de interés\n",
    "r1 = -x_v - np.sqrt(discriminante)\n",
    "r5 = -x_v + np.sqrt(discriminante)\n",
    "\n",
    "# Calcular las derivadas de las intensidades en las cuaternas\n",
    "y1 = derivadas[:, 0]\n",
    "y2 = derivadas[:, 1]\n",
    "y3 = derivadas[:, 2]\n",
    "y4 = derivadas[:, 3]\n",
    "\n",
    "# Crear máscaras booleanas para cada condición\n",
    "mask_validada_E = (r5 > -y1) & (r1 > 0) & (r5 > 0)\n",
    "mask_delta_negativo = (discriminante < 0)\n",
    "mask_r1_negativo = (r1 <= 0) & (r5 > 0)\n",
    "mask_r1r5_negativo = (r5 <= 0)\n",
    "\n",
    "# Crear listas de datos para cada condición\n",
    "validada_E = [(r1[i], r5[i], \n",
    "               discriminante[i],\n",
    "               combinations_I[i],\n",
    "               combinations_V[i],\n",
    "               derivadas[i],\n",
    "               (y1[i]-y2[i]),\n",
    "               (y2[i]-y3[i]),\n",
    "               (y3[i]-y4[i]),\n",
    "               (y1[i]-y2[i])/(y2[i]-y3[i]),\n",
    "               (y2[i]-y3[i])/(y3[i]-y4[i]))\n",
    "              for i in range(len(r1)) if mask_validada_E[i]]\n",
    "\n",
    "delta_negativo = [(r1[i], r5[i],\n",
    "                   discriminante[i],\n",
    "                   combinations_I[i],\n",
    "                   combinations_V[i],\n",
    "                   derivadas[i],\n",
    "                   (y1[i]-y2[i]),\n",
    "                   (y2[i]-y3[i]),\n",
    "                   (y3[i]-y4[i]),\n",
    "                   (y1[i]-y2[i])/(y2[i]-y3[i]),\n",
    "                   (y2[i]-y3[i])/(y3[i]-y4[i]))\n",
    "                  for i in range(len(r1)) if mask_delta_negativo[i]]\n",
    "\n",
    "r1_negativo = [(r1[i], r5[i], \n",
    "               discriminante[i],\n",
    "               combinations_I[i],\n",
    "               combinations_V[i],\n",
    "               derivadas[i],\n",
    "               (y1[i]-y2[i]),\n",
    "               (y2[i]-y3[i]),\n",
    "               (y3[i]-y4[i]),\n",
    "               (y1[i]-y2[i])/(y2[i]-y3[i]),\n",
    "               (y2[i]-y3[i])/(y3[i]-y4[i]))\n",
    "              for i in range(len(r1)) if mask_r1_negativo[i]]\n",
    "\n",
    "r1r5_negativo = [(r1[i], r5[i], \n",
    "               discriminante[i],\n",
    "               combinations_I[i],\n",
    "               combinations_V[i],\n",
    "               derivadas[i],\n",
    "               (y1[i]-y2[i]),\n",
    "               (y2[i]-y3[i]),\n",
    "               (y3[i]-y4[i]),\n",
    "               (y1[i]-y2[i])/(y2[i]-y3[i]),\n",
    "               (y2[i]-y3[i])/(y3[i]-y4[i]))\n",
    "              for i in range(len(r1)) if mask_r1r5_negativo[i]]\n",
    "\n",
    "# Obtener los índices de los elementos que no cumplen ninguna de las condiciones\n",
    "indices_no_recogidos = set(range(len(r1))) - \\\n",
    "                       set([i for i in range(len(r1)) if mask_validada_E[i]]) - \\\n",
    "                       set([i for i in range(len(r1)) if mask_delta_negativo[i]]) - \\\n",
    "                       set([i for i in range(len(r1)) if mask_r1_negativo[i]]) - \\\n",
    "                       set([i for i in range(len(r1)) if mask_r1r5_negativo[i]])\n",
    "\n",
    "\n",
    "# Crear la lista final con los elementos no recogidos\n",
    "compl = [(r1[i], r5[i], \n",
    "                 discriminante[i],\n",
    "                 combinations_I[i], \n",
    "                 combinations_V[i],\n",
    "                 derivadas[i],\n",
    "                 (y1[i]-y2[i]),\n",
    "                 (y2[i]-y3[i]),\n",
    "                 (y3[i]-y4[i]),\n",
    "                 (y1[i]-y2[i])/(y2[i]-y3[i]),\n",
    "                 (y2[i]-y3[i])/(y3[i]-y4[i]))\n",
    "                 for i in indices_no_recogidos]\n"
   ]
  },
  {
   "cell_type": "code",
   "execution_count": 9,
   "id": "24ce11be",
   "metadata": {},
   "outputs": [],
   "source": [
    "import pandas as pd\n",
    "\n",
    "# Crear DataFrames para cada condición\n",
    "df_validada_E = pd.DataFrame(validada_E, columns=['Raíz 1', 'Raíz 5', 'Discriminante', 'Puntos_I', 'Puntos_V', 'Pendientes_I','y1-y2','y2-y3','y3-y4', 'y1-y2/y2-y3', 'y2-y3/y3-y4'])\n",
    "df_delta_negativo = pd.DataFrame(delta_negativo, columns=['Raíz 1', 'Raíz 5', 'Discriminante', 'Puntos_I', 'Puntos_V', 'Pendientes_I','y1-y2','y2-y3','y3-y4','y1-y2/y2-y3', 'y2-y3/y3-y4'])\n",
    "df_complementarios = pd.DataFrame(compl, columns=['Raíz 1', 'Raíz 5', 'Discriminante', 'Puntos_I', 'Puntos_V', 'Pendientes_I','y1-y2','y2-y3','y3-y4', 'y1-y2/y2-y3', 'y2-y3/y3-y4'])\n",
    "df_r1_negativo = pd.DataFrame(r1_negativo, columns=['Raíz 1', 'Raíz 5', 'Discriminante', 'Puntos_I', 'Puntos_V', 'Pendientes_I','y1-y2','y2-y3','y3-y4', 'y1-y2/y2-y3', 'y2-y3/y3-y4'])\n",
    "df_r1r5_negativo = pd.DataFrame(r1r5_negativo, columns=['Raíz 1', 'Raíz 5', 'Discriminante', 'Puntos_I', 'Puntos_V', 'Pendientes_I','y1-y2','y2-y3','y3-y4','y1-y2/y2-y3', 'y2-y3/y3-y4'])"
   ]
  },
  {
   "cell_type": "code",
   "execution_count": 10,
   "id": "525fafc7-fd27-4d18-9ce5-4dc7b7e6eb4b",
   "metadata": {},
   "outputs": [],
   "source": [
    "df_delta_negativo.to_csv('delta_negativo.csv', index=False)\n",
    "df_complementarios.to_csv('complementarios.csv', index=False)\n",
    "df_r1_negativo.to_csv('complementarios_r1_neg.csv', index=False)\n",
    "df_r1r5_negativo.to_csv('complementarios_r1r5_neg.csv', index=False)\n",
    "df_validada_E.to_csv('validada_E.csv', index=False)"
   ]
  },
  {
   "cell_type": "code",
   "execution_count": 11,
   "id": "66c7d5e8-d3e0-4fb3-9dcf-5b34fae84677",
   "metadata": {},
   "outputs": [
    {
     "name": "stdout",
     "output_type": "stream",
     "text": [
      "3870\n"
     ]
    }
   ],
   "source": [
    "num_filas = df_validada_E.shape[0]\n",
    "print(num_filas)"
   ]
  },
  {
   "cell_type": "code",
   "execution_count": null,
   "id": "d8fa3e23-091b-43fb-aceb-c370d3b4596e",
   "metadata": {},
   "outputs": [],
   "source": [
    "num_filas = df_delta_negativo.shape[0]\n",
    "print(num_filas)"
   ]
  },
  {
   "cell_type": "code",
   "execution_count": null,
   "id": "b22b1f0f-84f6-4a9d-a4f2-31438b98faa9",
   "metadata": {},
   "outputs": [],
   "source": [
    "combinations_V"
   ]
  },
  {
   "cell_type": "code",
   "execution_count": null,
   "id": "f064c1a3-6af9-4174-90f9-9934dca9ec72",
   "metadata": {},
   "outputs": [],
   "source": [
    " combinations_V.shape[0]"
   ]
  },
  {
   "cell_type": "code",
   "execution_count": null,
   "id": "6680b346-8a35-4bfc-a06d-fe92105bff0f",
   "metadata": {},
   "outputs": [],
   "source": [
    "df_r1_negativo.shape[0]"
   ]
  },
  {
   "cell_type": "code",
   "execution_count": null,
   "id": "c6ae94c3-5424-4d47-90d1-567c6d7a02fc",
   "metadata": {},
   "outputs": [],
   "source": [
    "df_r1r5_negativo.shape[0]"
   ]
  },
  {
   "cell_type": "code",
   "execution_count": null,
   "id": "6d2e6509-b3f8-4865-b6ce-d29f2d97a826",
   "metadata": {},
   "outputs": [],
   "source": []
  },
  {
   "cell_type": "code",
   "execution_count": null,
   "id": "a085f466-388d-4498-aa23-4eb32e449078",
   "metadata": {},
   "outputs": [],
   "source": []
  },
  {
   "cell_type": "code",
   "execution_count": null,
   "id": "9f6c82c8-3eab-4287-94d3-6eb74cee19bc",
   "metadata": {},
   "outputs": [],
   "source": []
  },
  {
   "cell_type": "code",
   "execution_count": null,
   "id": "43f210a4-ab5b-4e70-8c31-202d268c5da1",
   "metadata": {},
   "outputs": [],
   "source": []
  }
 ],
 "metadata": {
  "kernelspec": {
   "display_name": "Python 3 (ipykernel)",
   "language": "python",
   "name": "python3"
  },
  "language_info": {
   "codemirror_mode": {
    "name": "ipython",
    "version": 3
   },
   "file_extension": ".py",
   "mimetype": "text/x-python",
   "name": "python",
   "nbconvert_exporter": "python",
   "pygments_lexer": "ipython3",
   "version": "3.11.8"
  }
 },
 "nbformat": 4,
 "nbformat_minor": 5
}
